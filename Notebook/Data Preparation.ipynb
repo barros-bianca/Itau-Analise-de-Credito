{
 "cells": [
  {
   "cell_type": "code",
   "execution_count": 34,
   "metadata": {},
   "outputs": [],
   "source": [
    "import pandas as pd\n",
    "import numpy as np\n",
    "from imblearn.under_sampling import TomekLinks"
   ]
  },
  {
   "cell_type": "code",
   "execution_count": 29,
   "metadata": {},
   "outputs": [],
   "source": [
    "df  = pd.read_csv('/Users/bianca/Documents/Itaú - Análise de Crédito/Inputs/credit_analysis_data.csv')"
   ]
  },
  {
   "cell_type": "code",
   "execution_count": 30,
   "metadata": {},
   "outputs": [
    {
     "data": {
      "text/plain": [
       "(1000, 14)"
      ]
     },
     "execution_count": 30,
     "metadata": {},
     "output_type": "execute_result"
    }
   ],
   "source": [
    "df.shape"
   ]
  },
  {
   "cell_type": "code",
   "execution_count": 31,
   "metadata": {},
   "outputs": [
    {
     "name": "stdout",
     "output_type": "stream",
     "text": [
      "<class 'pandas.core.frame.DataFrame'>\n",
      "RangeIndex: 1000 entries, 0 to 999\n",
      "Data columns (total 14 columns):\n",
      " #   Column                Non-Null Count  Dtype \n",
      "---  ------                --------------  ----- \n",
      " 0   Age                   1000 non-null   int64 \n",
      " 1   Income                1000 non-null   int64 \n",
      " 2   Loan Amount           1000 non-null   int64 \n",
      " 3   Loan Term             1000 non-null   int64 \n",
      " 4   Credit Score          1000 non-null   int64 \n",
      " 5   Number of Defaults    1000 non-null   int64 \n",
      " 6   Education Level       1000 non-null   object\n",
      " 7   Employment Status     1000 non-null   object\n",
      " 8   Marital Status        1000 non-null   object\n",
      " 9   Number of Dependents  1000 non-null   int64 \n",
      " 10  Home Ownership        1000 non-null   object\n",
      " 11  Years in Residence    1000 non-null   int64 \n",
      " 12  Annual Expenses       1000 non-null   int64 \n",
      " 13  Default Probability   1000 non-null   int64 \n",
      "dtypes: int64(10), object(4)\n",
      "memory usage: 109.5+ KB\n"
     ]
    }
   ],
   "source": [
    "df.info()"
   ]
  },
  {
   "cell_type": "code",
   "execution_count": 12,
   "metadata": {},
   "outputs": [
    {
     "data": {
      "text/html": [
       "<div>\n",
       "<style scoped>\n",
       "    .dataframe tbody tr th:only-of-type {\n",
       "        vertical-align: middle;\n",
       "    }\n",
       "\n",
       "    .dataframe tbody tr th {\n",
       "        vertical-align: top;\n",
       "    }\n",
       "\n",
       "    .dataframe thead th {\n",
       "        text-align: right;\n",
       "    }\n",
       "</style>\n",
       "<table border=\"1\" class=\"dataframe\">\n",
       "  <thead>\n",
       "    <tr style=\"text-align: right;\">\n",
       "      <th></th>\n",
       "      <th>Age</th>\n",
       "      <th>Income</th>\n",
       "      <th>Loan Amount</th>\n",
       "      <th>Loan Term</th>\n",
       "      <th>Credit Score</th>\n",
       "      <th>Number of Defaults</th>\n",
       "      <th>Education Level</th>\n",
       "      <th>Employment Status</th>\n",
       "      <th>Marital Status</th>\n",
       "      <th>Number of Dependents</th>\n",
       "      <th>Home Ownership</th>\n",
       "      <th>Years in Residence</th>\n",
       "      <th>Annual Expenses</th>\n",
       "      <th>Default Probability</th>\n",
       "    </tr>\n",
       "  </thead>\n",
       "  <tbody>\n",
       "    <tr>\n",
       "      <th>0</th>\n",
       "      <td>56</td>\n",
       "      <td>25903</td>\n",
       "      <td>37269</td>\n",
       "      <td>47</td>\n",
       "      <td>761</td>\n",
       "      <td>3</td>\n",
       "      <td>PhD</td>\n",
       "      <td>Employed</td>\n",
       "      <td>Married</td>\n",
       "      <td>5</td>\n",
       "      <td>Rent</td>\n",
       "      <td>28</td>\n",
       "      <td>20629</td>\n",
       "      <td>1</td>\n",
       "    </tr>\n",
       "    <tr>\n",
       "      <th>1</th>\n",
       "      <td>69</td>\n",
       "      <td>53051</td>\n",
       "      <td>16003</td>\n",
       "      <td>54</td>\n",
       "      <td>312</td>\n",
       "      <td>0</td>\n",
       "      <td>Bachelor</td>\n",
       "      <td>Employed</td>\n",
       "      <td>Single</td>\n",
       "      <td>1</td>\n",
       "      <td>Mortgage</td>\n",
       "      <td>12</td>\n",
       "      <td>41678</td>\n",
       "      <td>0</td>\n",
       "    </tr>\n",
       "    <tr>\n",
       "      <th>2</th>\n",
       "      <td>46</td>\n",
       "      <td>38654</td>\n",
       "      <td>22246</td>\n",
       "      <td>48</td>\n",
       "      <td>683</td>\n",
       "      <td>3</td>\n",
       "      <td>Bachelor</td>\n",
       "      <td>Employed</td>\n",
       "      <td>Married</td>\n",
       "      <td>3</td>\n",
       "      <td>Own</td>\n",
       "      <td>7</td>\n",
       "      <td>20467</td>\n",
       "      <td>0</td>\n",
       "    </tr>\n",
       "    <tr>\n",
       "      <th>3</th>\n",
       "      <td>32</td>\n",
       "      <td>28666</td>\n",
       "      <td>29325</td>\n",
       "      <td>26</td>\n",
       "      <td>698</td>\n",
       "      <td>1</td>\n",
       "      <td>Bachelor</td>\n",
       "      <td>Employed</td>\n",
       "      <td>Married</td>\n",
       "      <td>1</td>\n",
       "      <td>Own</td>\n",
       "      <td>21</td>\n",
       "      <td>39952</td>\n",
       "      <td>0</td>\n",
       "    </tr>\n",
       "    <tr>\n",
       "      <th>4</th>\n",
       "      <td>60</td>\n",
       "      <td>40301</td>\n",
       "      <td>5816</td>\n",
       "      <td>39</td>\n",
       "      <td>318</td>\n",
       "      <td>2</td>\n",
       "      <td>PhD</td>\n",
       "      <td>Employed</td>\n",
       "      <td>Single</td>\n",
       "      <td>3</td>\n",
       "      <td>Own</td>\n",
       "      <td>20</td>\n",
       "      <td>29884</td>\n",
       "      <td>0</td>\n",
       "    </tr>\n",
       "  </tbody>\n",
       "</table>\n",
       "</div>"
      ],
      "text/plain": [
       "   Age  Income  Loan Amount  Loan Term  Credit Score  Number of Defaults  \\\n",
       "0   56   25903        37269         47           761                   3   \n",
       "1   69   53051        16003         54           312                   0   \n",
       "2   46   38654        22246         48           683                   3   \n",
       "3   32   28666        29325         26           698                   1   \n",
       "4   60   40301         5816         39           318                   2   \n",
       "\n",
       "  Education Level Employment Status Marital Status  Number of Dependents  \\\n",
       "0             PhD          Employed        Married                     5   \n",
       "1        Bachelor          Employed         Single                     1   \n",
       "2        Bachelor          Employed        Married                     3   \n",
       "3        Bachelor          Employed        Married                     1   \n",
       "4             PhD          Employed         Single                     3   \n",
       "\n",
       "  Home Ownership  Years in Residence  Annual Expenses  Default Probability  \n",
       "0           Rent                  28            20629                    1  \n",
       "1       Mortgage                  12            41678                    0  \n",
       "2            Own                   7            20467                    0  \n",
       "3            Own                  21            39952                    0  \n",
       "4            Own                  20            29884                    0  "
      ]
     },
     "execution_count": 12,
     "metadata": {},
     "output_type": "execute_result"
    }
   ],
   "source": [
    "df.head()"
   ]
  },
  {
   "cell_type": "code",
   "execution_count": 18,
   "metadata": {},
   "outputs": [
    {
     "data": {
      "text/html": [
       "<div>\n",
       "<style scoped>\n",
       "    .dataframe tbody tr th:only-of-type {\n",
       "        vertical-align: middle;\n",
       "    }\n",
       "\n",
       "    .dataframe tbody tr th {\n",
       "        vertical-align: top;\n",
       "    }\n",
       "\n",
       "    .dataframe thead th {\n",
       "        text-align: right;\n",
       "    }\n",
       "</style>\n",
       "<table border=\"1\" class=\"dataframe\">\n",
       "  <thead>\n",
       "    <tr style=\"text-align: right;\">\n",
       "      <th></th>\n",
       "      <th>Age</th>\n",
       "      <th>Income</th>\n",
       "      <th>Loan Amount</th>\n",
       "      <th>Loan Term</th>\n",
       "      <th>Credit Score</th>\n",
       "      <th>Number of Defaults</th>\n",
       "      <th>Number of Dependents</th>\n",
       "      <th>Years in Residence</th>\n",
       "      <th>Annual Expenses</th>\n",
       "      <th>Default Probability</th>\n",
       "    </tr>\n",
       "  </thead>\n",
       "  <tbody>\n",
       "    <tr>\n",
       "      <th>count</th>\n",
       "      <td>1000.00000</td>\n",
       "      <td>1000.000000</td>\n",
       "      <td>1000.000000</td>\n",
       "      <td>1000.000000</td>\n",
       "      <td>1000.00000</td>\n",
       "      <td>1000.000000</td>\n",
       "      <td>1000.000000</td>\n",
       "      <td>1000.000000</td>\n",
       "      <td>1000.000000</td>\n",
       "      <td>1000.000000</td>\n",
       "    </tr>\n",
       "    <tr>\n",
       "      <th>mean</th>\n",
       "      <td>43.81900</td>\n",
       "      <td>50863.121000</td>\n",
       "      <td>20203.059000</td>\n",
       "      <td>35.661000</td>\n",
       "      <td>578.81400</td>\n",
       "      <td>2.006000</td>\n",
       "      <td>2.548000</td>\n",
       "      <td>14.777000</td>\n",
       "      <td>30039.377000</td>\n",
       "      <td>0.197000</td>\n",
       "    </tr>\n",
       "    <tr>\n",
       "      <th>std</th>\n",
       "      <td>14.99103</td>\n",
       "      <td>14823.257362</td>\n",
       "      <td>9809.574573</td>\n",
       "      <td>13.686248</td>\n",
       "      <td>158.33446</td>\n",
       "      <td>1.418441</td>\n",
       "      <td>1.710152</td>\n",
       "      <td>8.606587</td>\n",
       "      <td>9864.135905</td>\n",
       "      <td>0.397931</td>\n",
       "    </tr>\n",
       "    <tr>\n",
       "      <th>min</th>\n",
       "      <td>18.00000</td>\n",
       "      <td>6556.000000</td>\n",
       "      <td>-10195.000000</td>\n",
       "      <td>12.000000</td>\n",
       "      <td>300.00000</td>\n",
       "      <td>0.000000</td>\n",
       "      <td>0.000000</td>\n",
       "      <td>0.000000</td>\n",
       "      <td>-2173.000000</td>\n",
       "      <td>0.000000</td>\n",
       "    </tr>\n",
       "    <tr>\n",
       "      <th>25%</th>\n",
       "      <td>31.00000</td>\n",
       "      <td>40822.250000</td>\n",
       "      <td>13585.000000</td>\n",
       "      <td>24.000000</td>\n",
       "      <td>443.00000</td>\n",
       "      <td>1.000000</td>\n",
       "      <td>1.000000</td>\n",
       "      <td>7.000000</td>\n",
       "      <td>22985.000000</td>\n",
       "      <td>0.000000</td>\n",
       "    </tr>\n",
       "    <tr>\n",
       "      <th>50%</th>\n",
       "      <td>44.00000</td>\n",
       "      <td>50807.000000</td>\n",
       "      <td>20038.000000</td>\n",
       "      <td>35.000000</td>\n",
       "      <td>582.00000</td>\n",
       "      <td>2.000000</td>\n",
       "      <td>3.000000</td>\n",
       "      <td>15.000000</td>\n",
       "      <td>30190.000000</td>\n",
       "      <td>0.000000</td>\n",
       "    </tr>\n",
       "    <tr>\n",
       "      <th>75%</th>\n",
       "      <td>56.00000</td>\n",
       "      <td>60281.750000</td>\n",
       "      <td>26842.000000</td>\n",
       "      <td>48.000000</td>\n",
       "      <td>722.00000</td>\n",
       "      <td>3.000000</td>\n",
       "      <td>4.000000</td>\n",
       "      <td>23.000000</td>\n",
       "      <td>36921.750000</td>\n",
       "      <td>0.000000</td>\n",
       "    </tr>\n",
       "    <tr>\n",
       "      <th>max</th>\n",
       "      <td>69.00000</td>\n",
       "      <td>89485.000000</td>\n",
       "      <td>51931.000000</td>\n",
       "      <td>59.000000</td>\n",
       "      <td>849.00000</td>\n",
       "      <td>4.000000</td>\n",
       "      <td>5.000000</td>\n",
       "      <td>29.000000</td>\n",
       "      <td>57345.000000</td>\n",
       "      <td>1.000000</td>\n",
       "    </tr>\n",
       "  </tbody>\n",
       "</table>\n",
       "</div>"
      ],
      "text/plain": [
       "              Age        Income   Loan Amount    Loan Term  Credit Score  \\\n",
       "count  1000.00000   1000.000000   1000.000000  1000.000000    1000.00000   \n",
       "mean     43.81900  50863.121000  20203.059000    35.661000     578.81400   \n",
       "std      14.99103  14823.257362   9809.574573    13.686248     158.33446   \n",
       "min      18.00000   6556.000000 -10195.000000    12.000000     300.00000   \n",
       "25%      31.00000  40822.250000  13585.000000    24.000000     443.00000   \n",
       "50%      44.00000  50807.000000  20038.000000    35.000000     582.00000   \n",
       "75%      56.00000  60281.750000  26842.000000    48.000000     722.00000   \n",
       "max      69.00000  89485.000000  51931.000000    59.000000     849.00000   \n",
       "\n",
       "       Number of Defaults  Number of Dependents  Years in Residence  \\\n",
       "count         1000.000000           1000.000000         1000.000000   \n",
       "mean             2.006000              2.548000           14.777000   \n",
       "std              1.418441              1.710152            8.606587   \n",
       "min              0.000000              0.000000            0.000000   \n",
       "25%              1.000000              1.000000            7.000000   \n",
       "50%              2.000000              3.000000           15.000000   \n",
       "75%              3.000000              4.000000           23.000000   \n",
       "max              4.000000              5.000000           29.000000   \n",
       "\n",
       "       Annual Expenses  Default Probability  \n",
       "count      1000.000000          1000.000000  \n",
       "mean      30039.377000             0.197000  \n",
       "std        9864.135905             0.397931  \n",
       "min       -2173.000000             0.000000  \n",
       "25%       22985.000000             0.000000  \n",
       "50%       30190.000000             0.000000  \n",
       "75%       36921.750000             0.000000  \n",
       "max       57345.000000             1.000000  "
      ]
     },
     "execution_count": 18,
     "metadata": {},
     "output_type": "execute_result"
    }
   ],
   "source": [
    "df.describe()"
   ]
  },
  {
   "cell_type": "code",
   "execution_count": 19,
   "metadata": {},
   "outputs": [
    {
     "data": {
      "text/plain": [
       "Age                     0\n",
       "Income                  0\n",
       "Loan Amount             0\n",
       "Loan Term               0\n",
       "Credit Score            0\n",
       "Number of Defaults      0\n",
       "Education Level         0\n",
       "Employment Status       0\n",
       "Marital Status          0\n",
       "Number of Dependents    0\n",
       "Home Ownership          0\n",
       "Years in Residence      0\n",
       "Annual Expenses         0\n",
       "Default Probability     0\n",
       "dtype: int64"
      ]
     },
     "execution_count": 19,
     "metadata": {},
     "output_type": "execute_result"
    }
   ],
   "source": [
    "#Verifica se há valores nulos\n",
    "df.isnull().sum()"
   ]
  },
  {
   "cell_type": "code",
   "execution_count": 20,
   "metadata": {},
   "outputs": [
    {
     "data": {
      "text/plain": [
       "np.int64(0)"
      ]
     },
     "execution_count": 20,
     "metadata": {},
     "output_type": "execute_result"
    }
   ],
   "source": [
    "#Verifica se há duplicados\n",
    "df.duplicated().sum()"
   ]
  },
  {
   "cell_type": "code",
   "execution_count": 23,
   "metadata": {},
   "outputs": [
    {
     "data": {
      "text/plain": [
       "Age                      52\n",
       "Income                  994\n",
       "Loan Amount             987\n",
       "Loan Term                48\n",
       "Credit Score            458\n",
       "Number of Defaults        5\n",
       "Education Level           4\n",
       "Employment Status         3\n",
       "Marital Status            4\n",
       "Number of Dependents      6\n",
       "Home Ownership            3\n",
       "Years in Residence       30\n",
       "Annual Expenses         988\n",
       "Default Probability       2\n",
       "dtype: int64"
      ]
     },
     "execution_count": 23,
     "metadata": {},
     "output_type": "execute_result"
    }
   ],
   "source": [
    "#Verifica quantos valores distintos há em cada coluna\n",
    "df.nunique()"
   ]
  },
  {
   "cell_type": "code",
   "execution_count": 32,
   "metadata": {},
   "outputs": [
    {
     "data": {
      "text/plain": [
       "Default Probability\n",
       "0    803\n",
       "1    197\n",
       "Name: count, dtype: int64"
      ]
     },
     "execution_count": 32,
     "metadata": {},
     "output_type": "execute_result"
    }
   ],
   "source": [
    "# verifica o balanceamento das classes\n",
    "#Conclusão: classe desbalanceada. \n",
    "\n",
    "df['Default Probability'].value_counts()"
   ]
  }
 ],
 "metadata": {
  "kernelspec": {
   "display_name": "Python 3",
   "language": "python",
   "name": "python3"
  },
  "language_info": {
   "codemirror_mode": {
    "name": "ipython",
    "version": 3
   },
   "file_extension": ".py",
   "mimetype": "text/x-python",
   "name": "python",
   "nbconvert_exporter": "python",
   "pygments_lexer": "ipython3",
   "version": "3.11.9"
  }
 },
 "nbformat": 4,
 "nbformat_minor": 2
}
